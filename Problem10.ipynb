{
 "cells": [
  {
   "cell_type": "markdown",
   "metadata": {},
   "source": [
    "# Summation of Primes"
   ]
  },
  {
   "cell_type": "markdown",
   "metadata": {},
   "source": [
    "## Problem 10"
   ]
  },
  {
   "cell_type": "markdown",
   "metadata": {},
   "source": [
    "### The sum of the primes below 10 is 2 + 3 + 5 + 7 = 17. Find the sum of all the primes below two million."
   ]
  },
  {
   "cell_type": "code",
   "execution_count": 9,
   "metadata": {},
   "outputs": [],
   "source": [
    "def is_prime(num):\n",
    "# If given number is greater than 1 \n",
    "    if num > 1: \n",
    "        \n",
    "        if num == 4:\n",
    "            return 0\n",
    "       # Iterate from 2 to n / 2  \n",
    "        for i in range(2, num//2): \n",
    "\n",
    "           # If num is divisible by any number between  \n",
    "           # 2 and n / 2, it is not prime  \n",
    "            if (num % i) == 0: \n",
    "                #print(num, \"is not a prime number\")\n",
    "                return 0\n",
    "                break\n",
    "        else: \n",
    "            #print(num, \"is a prime number\") \n",
    "            return 1\n",
    "\n",
    "    else: \n",
    "        #print(num, \"is not a prime number\") \n",
    "        return 0"
   ]
  },
  {
   "cell_type": "code",
   "execution_count": 18,
   "metadata": {},
   "outputs": [],
   "source": [
    "def primes(bound):\n",
    "    Sum = 0\n",
    "    for i in range(bound + 1):\n",
    "        if is_prime(i) == 1:\n",
    "            Sum += i\n",
    "    return Sum"
   ]
  },
  {
   "cell_type": "code",
   "execution_count": 20,
   "metadata": {},
   "outputs": [
    {
     "data": {
      "text/plain": [
       "142913828922"
      ]
     },
     "execution_count": 20,
     "metadata": {},
     "output_type": "execute_result"
    }
   ],
   "source": [
    "%%time\n",
    "\n",
    "Sum = primes(2000000)\n",
    "Sum"
   ]
  }
 ],
 "metadata": {
  "kernelspec": {
   "display_name": "Python 3",
   "language": "python",
   "name": "python3"
  },
  "language_info": {
   "codemirror_mode": {
    "name": "ipython",
    "version": 3
   },
   "file_extension": ".py",
   "mimetype": "text/x-python",
   "name": "python",
   "nbconvert_exporter": "python",
   "pygments_lexer": "ipython3",
   "version": "3.7.4"
  }
 },
 "nbformat": 4,
 "nbformat_minor": 2
}
