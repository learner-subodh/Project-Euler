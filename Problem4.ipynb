{
 "cells": [
  {
   "cell_type": "markdown",
   "metadata": {},
   "source": [
    "# Largest Palindrome Product"
   ]
  },
  {
   "cell_type": "markdown",
   "metadata": {},
   "source": [
    "## Problem 4"
   ]
  },
  {
   "cell_type": "markdown",
   "metadata": {},
   "source": [
    "### A palindromic number reads the same both ways. The largest palindrome made from the product of two 2-digit numbers is 9009 = 91 × 99. Find the largest palindrome made from the product of two 3-digit numbers. "
   ]
  },
  {
   "cell_type": "code",
   "execution_count": 109,
   "metadata": {},
   "outputs": [],
   "source": [
    "# function to determine whether a given number is a palindrome or not\n",
    "\n",
    "def is_palindrome(n):\n",
    "    result = str(n) == str(n)[::-1]\n",
    "    return result"
   ]
  },
  {
   "cell_type": "code",
   "execution_count": 110,
   "metadata": {},
   "outputs": [
    {
     "data": {
      "text/plain": [
       "True"
      ]
     },
     "execution_count": 110,
     "metadata": {},
     "output_type": "execute_result"
    }
   ],
   "source": [
    "# just a check for the above function  ;)\n",
    "\n",
    "is_palindrome(99)"
   ]
  },
  {
   "cell_type": "code",
   "execution_count": 111,
   "metadata": {},
   "outputs": [],
   "source": [
    "# function to implement the main logic for the question using lists \n",
    "\n",
    "def starter_function_1(n):\n",
    "    # n is the integer saying the number of digits\n",
    "    \n",
    "    # up = upper bound of n-digit number\n",
    "    # lb = lower bound of n-digit number\n",
    "    ub = 0\n",
    "    for i in range(1, n+1): \n",
    "      \n",
    "        ub = ub * 10\n",
    "        ub = ub + 9\n",
    "        \n",
    "    lb = 1 + ub // 10\n",
    "    \n",
    "    k = []\n",
    "    m = []\n",
    "    maximum = 0\n",
    "    for i in range(ub, lb, -1):\n",
    "        k.append(i)\n",
    "        m.append(i)\n",
    "    \n",
    "    for i in k:\n",
    "        for j in m:\n",
    "            p = i * j\n",
    "            if is_palindrome(p) is True:\n",
    "                if p > maximum:\n",
    "                    maximum = p\n",
    "    \n",
    "    print(maximum)\n",
    "    return max"
   ]
  },
  {
   "cell_type": "code",
   "execution_count": 113,
   "metadata": {},
   "outputs": [
    {
     "name": "stdout",
     "output_type": "stream",
     "text": [
      "906609\n"
     ]
    },
    {
     "data": {
      "text/plain": [
       "<function max>"
      ]
     },
     "execution_count": 113,
     "metadata": {},
     "output_type": "execute_result"
    }
   ],
   "source": [
    "starter_function_1(3)"
   ]
  },
  {
   "cell_type": "code",
   "execution_count": 114,
   "metadata": {},
   "outputs": [],
   "source": [
    "# function to implement the main logic for the question without using any auxiliary space \n",
    "\n",
    "def starter_function_2(n):\n",
    "    # n is the integer saying the number of digits\n",
    "    \n",
    "    # up = upper bound of n-digit number\n",
    "    # lb = lower bound of n-digit number\n",
    "    ub = 0\n",
    "    for i in range(1, n+1): \n",
    "      \n",
    "        ub = ub * 10\n",
    "        ub = ub + 9\n",
    "        \n",
    "    lb = 1 + ub // 10\n",
    "    \n",
    "    maximum = 0\n",
    "    for i in range(ub, lb, -1):\n",
    "        for j in range(ub, lb, -1):\n",
    "            p = i * j\n",
    "            if is_palindrome(p) is True:\n",
    "                if p > maximum:\n",
    "                    maximum = p\n",
    "    return maximum"
   ]
  },
  {
   "cell_type": "code",
   "execution_count": 115,
   "metadata": {},
   "outputs": [
    {
     "data": {
      "text/plain": [
       "906609"
      ]
     },
     "execution_count": 115,
     "metadata": {},
     "output_type": "execute_result"
    }
   ],
   "source": [
    "starter_function_2(3)"
   ]
  }
 ],
 "metadata": {
  "kernelspec": {
   "display_name": "Python 3",
   "language": "python",
   "name": "python3"
  },
  "language_info": {
   "codemirror_mode": {
    "name": "ipython",
    "version": 3
   },
   "file_extension": ".py",
   "mimetype": "text/x-python",
   "name": "python",
   "nbconvert_exporter": "python",
   "pygments_lexer": "ipython3",
   "version": "3.7.4"
  }
 },
 "nbformat": 4,
 "nbformat_minor": 2
}
