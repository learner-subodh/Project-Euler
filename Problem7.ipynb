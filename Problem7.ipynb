{
 "cells": [
  {
   "cell_type": "markdown",
   "metadata": {},
   "source": [
    "# 10001st Prime"
   ]
  },
  {
   "cell_type": "markdown",
   "metadata": {},
   "source": [
    "## Problem 7"
   ]
  },
  {
   "cell_type": "markdown",
   "metadata": {},
   "source": [
    "### By listing the first six prime numbers: 2, 3, 5, 7, 11, and 13, we can see that the 6th prime is 13. What is the 10001st prime number?"
   ]
  },
  {
   "cell_type": "code",
   "execution_count": 13,
   "metadata": {},
   "outputs": [],
   "source": [
    "import math\n",
    "\n",
    "def is_prime(num):\n",
    "# If given number is greater than 1 \n",
    "    if num > 1: \n",
    "        \n",
    "        if num == 4:\n",
    "            return 0\n",
    "       # Iterate from 2 to n / 2  \n",
    "        for i in range(2, num // 2): \n",
    "\n",
    "           # If num is divisible by any number between  \n",
    "           # 2 and n / 2, it is not prime  \n",
    "            if (num % i) == 0: \n",
    "                #print(num, \"is not a prime number\")\n",
    "                return 0\n",
    "                break\n",
    "        else: \n",
    "            #print(num, \"is a prime number\") \n",
    "            return 1\n",
    "\n",
    "    else: \n",
    "        #print(num, \"is not a prime number\") \n",
    "        return 0"
   ]
  },
  {
   "cell_type": "code",
   "execution_count": 14,
   "metadata": {},
   "outputs": [],
   "source": [
    "def gen_prime(n):\n",
    "    count = 0\n",
    "    i = 2\n",
    "    while True:\n",
    "        if is_prime(i) == 1:\n",
    "            count += 1\n",
    "            if count == n:\n",
    "                #print(i)\n",
    "                return i\n",
    "        i += 1"
   ]
  },
  {
   "cell_type": "code",
   "execution_count": 15,
   "metadata": {},
   "outputs": [
    {
     "name": "stdout",
     "output_type": "stream",
     "text": [
      "104743\n",
      "Wall time: 38.8 s\n"
     ]
    }
   ],
   "source": [
    "%%time\n",
    "\n",
    "res = gen_prime(10001)\n",
    "print(res)"
   ]
  }
 ],
 "metadata": {
  "kernelspec": {
   "display_name": "Python 3",
   "language": "python",
   "name": "python3"
  },
  "language_info": {
   "codemirror_mode": {
    "name": "ipython",
    "version": 3
   },
   "file_extension": ".py",
   "mimetype": "text/x-python",
   "name": "python",
   "nbconvert_exporter": "python",
   "pygments_lexer": "ipython3",
   "version": "3.7.4"
  }
 },
 "nbformat": 4,
 "nbformat_minor": 2
}
